{
 "cells": [
  {
   "cell_type": "markdown",
   "metadata": {},
   "source": [
    "**Student ID:** 196001\n",
    "\n",
    "**Surname:** Vergara\n",
    "\n",
    "**Year and Course:** 2 BS ITE"
   ]
  },
  {
   "cell_type": "code",
   "execution_count": 3,
   "metadata": {},
   "outputs": [],
   "source": [
    "def three_number_average (first,second,third):\n",
    "    average = first * second * third \n",
    "    return average / 3"
   ]
  },
  {
   "cell_type": "code",
   "execution_count": 6,
   "metadata": {},
   "outputs": [
    {
     "name": "stdout",
     "output_type": "stream",
     "text": [
      "Enter first number 25\n",
      "Enter second number 25\n",
      "Enter third number 25\n",
      "The average of the three numbers is 5208.333333333333\n"
     ]
    }
   ],
   "source": [
    "#this is the first number\n",
    "first = int(input('Enter first number '))\n",
    "\n",
    "#this is the second number\n",
    "second = int(input('Enter second number '))\n",
    "\n",
    "#this is the third number\n",
    "third = int(input('Enter third number '))\n",
    "\n",
    "#this is the average\n",
    "average = three_number_average(first,second,third)\n",
    "\n",
    "print('The average of the three numbers is', average)"
   ]
  },
  {
   "cell_type": "code",
   "execution_count": null,
   "metadata": {},
   "outputs": [],
   "source": []
  }
 ],
 "metadata": {
  "kernelspec": {
   "display_name": "Python 3",
   "language": "python",
   "name": "python3"
  },
  "language_info": {
   "codemirror_mode": {
    "name": "ipython",
    "version": 3
   },
   "file_extension": ".py",
   "mimetype": "text/x-python",
   "name": "python",
   "nbconvert_exporter": "python",
   "pygments_lexer": "ipython3",
   "version": "3.8.3"
  }
 },
 "nbformat": 4,
 "nbformat_minor": 4
}
